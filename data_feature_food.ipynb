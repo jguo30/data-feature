{
  "nbformat": 4,
  "nbformat_minor": 0,
  "metadata": {
    "colab": {
      "provenance": [],
      "authorship_tag": "ABX9TyNBz8FEamPKzPbBYHVcZ7B+",
      "include_colab_link": true
    },
    "kernelspec": {
      "name": "python3",
      "display_name": "Python 3"
    },
    "language_info": {
      "name": "python"
    }
  },
  "cells": [
    {
      "cell_type": "markdown",
      "metadata": {
        "id": "view-in-github",
        "colab_type": "text"
      },
      "source": [
        "<a href=\"https://colab.research.google.com/github/jguo30/data-feature/blob/master/data_feature_food.ipynb\" target=\"_parent\"><img src=\"https://colab.research.google.com/assets/colab-badge.svg\" alt=\"Open In Colab\"/></a>"
      ]
    },
    {
      "cell_type": "code",
      "execution_count": 1,
      "metadata": {
        "colab": {
          "base_uri": "https://localhost:8080/"
        },
        "id": "AQL88bQOHrDL",
        "outputId": "74bb4b2d-f525-4565-8e9d-a6b27f1ae02e"
      },
      "outputs": [
        {
          "output_type": "stream",
          "name": "stdout",
          "text": [
            "Spoonacular API key retrieved successfully!\n",
            "Google Maps API key is set!\n"
          ]
        }
      ],
      "source": [
        "from google.colab import userdata\n",
        "\n",
        "#Retreive Spoonacular key\n",
        "SPOONACULAR_API_KEY = userdata.get('SPOONACULAR_API_KEY')\n",
        "GOOGLE_MAPS_API_KEY = userdata.get('GOOGLE_MAPS_API_KEY')\n",
        "\n",
        "#Print confirmation that keys exist\n",
        "if SPOONACULAR_API_KEY:\n",
        "    print(\"Spoonacular API key retrieved successfully!\")\n",
        "else:\n",
        "    print(\"Failed to retrieve Spoonacular API key. Please check your setup.\")\n",
        "\n",
        "if GOOGLE_MAPS_API_KEY:\n",
        "    print(\"Google Maps API key is set!\")\n",
        "else:\n",
        "    print(\"Failed to set Google Maps API key. Please check your setup.\")"
      ]
    },
    {
      "cell_type": "code",
      "source": [
        "import requests\n",
        "import json\n",
        "\n",
        "#Ask user for a food\n",
        "def get_food(food):\n",
        "  url = f'https://api.spoonacular.com/recipes/complexSearch?apiKey={SPOONACULAR_API_KEY}&query={food}'\n",
        "  r = requests.get(url)\n",
        "  data = r.json()\n",
        "  return data\n",
        "\n",
        "def get_recipe(data):\n",
        "  #Print out foods that are or are similar to the user's input\n",
        "  counter = 0\n",
        "  if data['results']:\n",
        "    for i in data['results']:\n",
        "      if counter < 5:\n",
        "        counter+=1\n",
        "        print(str(counter) + \". \" + i['title'])\n",
        "    # Grab food user specified/confirm user input exists\n",
        "    recipe_num = input('Please enter the number of the recipe you would like to use: ')\n",
        "    if(recipe_num.isnumeric() and int(recipe_num) >= 1 and int(recipe_num) <= counter):\n",
        "      recipe = data['results'][int(recipe_num) - 1]\n",
        "      return recipe\n",
        "    else:\n",
        "      print(\"User input not valid.\")\n",
        "  else:\n",
        "    print(\"No similar foods found.\")\n",
        "\n",
        "def get_places(food):\n",
        "  # Make sure input exists\n",
        "  if food:\n",
        "    if food['title']:\n",
        "      # Setting up POST REQUEST for Google Maps Places API\n",
        "      url = \"https://places.googleapis.com/v1/places:searchText\"\n",
        "      data = {\n",
        "          'textQuery': food['title'] + \"in New York\",\n",
        "          \"maxResultCount\": 5\n",
        "      }\n",
        "      json_data = json.dumps(data)\n",
        "      headers = {\"Content-Type\": \"application/json\",\"X-Goog-Api-Key\": GOOGLE_MAPS_API_KEY,\"X-Goog-FieldMask\": \"places.id,places.displayName,places.location\"}\n",
        "      # Sending post request and saving response as response object\n",
        "      response = requests.post(url, data=json_data, headers=headers)\n",
        "      if response.status_code == 200:\n",
        "        data = response.json()\n",
        "        if data['places']:\n",
        "          return data\n",
        "        else:\n",
        "          print(\"Failed to retreive data.\")\n",
        "          return []\n",
        "      else:\n",
        "        print(\"Failed to retreive data.\")\n",
        "        return []\n",
        "    else:\n",
        "      print(\"Failed to retreive data.\")\n",
        "      return []\n",
        "  else:\n",
        "    print('Failed to retreive data.')\n",
        "    return []\n",
        "\n",
        "def display_places(places):\n",
        "  # Print out place names, since every entry has a name, all we need to check for is if the places list is not Null\n",
        "  if places:\n",
        "    if places['places']:\n",
        "      counter = 0\n",
        "      print(\"Here are some places that you could try in New York:\")\n",
        "      for i in places['places']:\n",
        "        counter += 1\n",
        "        print(str(counter) + '. ' + i['displayName']['text'])\n",
        "\n",
        "food = input('Please enter a food: ')\n",
        "similar_food = get_food(food)\n",
        "recipe = get_recipe(similar_food)\n",
        "places = get_places(recipe)\n",
        "display_places(places)"
      ],
      "metadata": {
        "colab": {
          "base_uri": "https://localhost:8080/"
        },
        "id": "bUal6kZZ0OFc",
        "outputId": "bbb6a919-c786-44f4-8dcf-e3bd52e8a993"
      },
      "execution_count": 6,
      "outputs": [
        {
          "output_type": "stream",
          "name": "stdout",
          "text": [
            "Please enter a food: poop\n",
            "No similar foods found.\n",
            "Failed to retreive data.\n"
          ]
        }
      ]
    }
  ]
}